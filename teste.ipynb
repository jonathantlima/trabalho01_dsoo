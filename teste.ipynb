{
 "cells": [
  {
   "cell_type": "code",
   "execution_count": 5,
   "id": "7e311777",
   "metadata": {},
   "outputs": [
    {
     "name": "stdout",
     "output_type": "stream",
     "text": [
      "8\n"
     ]
    }
   ],
   "source": [
    "coeficiente1 = 2\n",
    "coeficiente2 = 2\n",
    "coeficiente3 = 2\n",
    "var = (coeficiente1 + coeficiente2) *\\\n",
    "     coeficiente3\n",
    "\n",
    "print(var)"
   ]
  },
  {
   "cell_type": "code",
   "execution_count": 7,
   "id": "9cc420e5",
   "metadata": {},
   "outputs": [
    {
     "name": "stdout",
     "output_type": "stream",
     "text": [
      "0.0004365\n"
     ]
    }
   ],
   "source": [
    "coeficiente_de_difusao = 0.000873\n",
    "time_increment = 0.125\n",
    "space_increment = 0.5\n",
    "\n",
    "cte_p = (coeficiente_de_difusao / var) /\\\n",
    "              (time_increment / space_increment)\n",
    "\n",
    "print(cte_p)"
   ]
  },
  {
   "cell_type": "code",
   "execution_count": 1,
   "id": "2642ff69",
   "metadata": {},
   "outputs": [
    {
     "name": "stdout",
     "output_type": "stream",
     "text": [
      "0.000765\n"
     ]
    }
   ],
   "source": [
    "from entidade.cation import Cation\n",
    "from entidade.anion import Anion\n",
    "\n",
    "calcium_hydroxide = Cation(nome=\"hidróxido de cálcio\", funcao=\"base\", formula=\"Ca(OH)2\", coeficiente_de_difusao=0.000765)\n",
    "print(calcium_hydroxide.coeficiente_de_difusao)"
   ]
  },
  {
   "cell_type": "code",
   "execution_count": 4,
   "id": "c682a18a",
   "metadata": {},
   "outputs": [
    {
     "name": "stdout",
     "output_type": "stream",
     "text": [
      "0.00873\n"
     ]
    }
   ],
   "source": [
    "from entidade.argila import Argila\n",
    "from entidade.areia import Areia\n",
    "from entidade.silte import Silte\n",
    "caulim = Silte('clay','brazil','bege',0.43,1.21,0.00055,0.00873)\n",
    "print(caulim.permeabilidade_eletroosmotica)"
   ]
  },
  {
   "cell_type": "code",
   "execution_count": 7,
   "id": "e5d01554",
   "metadata": {},
   "outputs": [
    {
     "name": "stdout",
     "output_type": "stream",
     "text": [
      "24204532\n"
     ]
    }
   ],
   "source": [
    "from entidade.usuario import Usuario\n",
    "\n",
    "carla = Usuario(\"Carla Feliz\",\"carla.feliz@uf.com.br\",\"4899762545\",\"Sistemas\",\"24204532\")\n",
    "print(carla.matricula)"
   ]
  },
  {
   "cell_type": "code",
   "execution_count": 18,
   "id": "3f3803fa",
   "metadata": {},
   "outputs": [
    {
     "name": "stdout",
     "output_type": "stream",
     "text": [
      "[ 0.  5. 10. 15. 20. 25. 30. 35. 40. 45. 50. 55. 60. 65. 70. 75. 80. 85.\n",
      " 90. 95.]\n"
     ]
    }
   ],
   "source": [
    "from numpy import arange, zeros\n",
    "\n",
    "CI = [0, 100]\n",
    "C = zeros((20,20))\n",
    "inc = (CI[1]-CI[0]) / (20)\n",
    "C[0,:] = arange(CI[0],CI[1],inc)\n",
    "print(C[0])"
   ]
  },
  {
   "cell_type": "code",
   "execution_count": 31,
   "id": "1db712e9",
   "metadata": {},
   "outputs": [],
   "source": [
    "from entidade.condicao_inicial import CondicaoInicial\n",
    "from entidade.cation import Cation"
   ]
  },
  {
   "cell_type": "code",
   "execution_count": 32,
   "id": "ddbd9c70",
   "metadata": {},
   "outputs": [
    {
     "ename": "TypeError",
     "evalue": "isinstance() argument 2 cannot be a parameterized generic",
     "output_type": "error",
     "traceback": [
      "\u001b[1;31m---------------------------------------------------------------------------\u001b[0m",
      "\u001b[1;31mTypeError\u001b[0m                                 Traceback (most recent call last)",
      "Cell \u001b[1;32mIn[32], line 2\u001b[0m\n\u001b[0;32m      1\u001b[0m quim \u001b[38;5;241m=\u001b[39m Cation(\u001b[38;5;124m\"\u001b[39m\u001b[38;5;124mNaOH\u001b[39m\u001b[38;5;124m\"\u001b[39m,\u001b[38;5;124m\"\u001b[39m\u001b[38;5;124mNaOH\u001b[39m\u001b[38;5;124m\"\u001b[39m,\u001b[38;5;124m\"\u001b[39m\u001b[38;5;124mbase\u001b[39m\u001b[38;5;124m\"\u001b[39m,\u001b[38;5;241m0.000671\u001b[39m)\n\u001b[1;32m----> 2\u001b[0m condInicial \u001b[38;5;241m=\u001b[39m \u001b[43mCondicaoInicial\u001b[49m\u001b[43m(\u001b[49m\u001b[38;5;241;43m-\u001b[39;49m\u001b[38;5;241;43m0.25\u001b[39;49m\u001b[43m,\u001b[49m\u001b[38;5;241;43m-\u001b[39;49m\u001b[38;5;241;43m0.025\u001b[39;49m\u001b[43m,\u001b[49m\u001b[43mquim\u001b[49m\u001b[43m,\u001b[49m\u001b[43m[\u001b[49m\u001b[38;5;241;43m0.\u001b[39;49m\u001b[43m,\u001b[49m\u001b[38;5;241;43m0.\u001b[39;49m\u001b[43m]\u001b[49m\u001b[43m)\u001b[49m\n",
      "File \u001b[1;32mc:\\Users\\SrMar\\Documents\\JONATHAN\\UFSC\\Sistemas de Informação\\Período 2025.2\\INE5605 - Desenvolvimento de Sistemas orientados a Objetos\\Trabalhos\\ParteI\\entidade\\condicao_inicial.py:19\u001b[0m, in \u001b[0;36mCondicaoInicial.__init__\u001b[1;34m(self, gradiente_eletrico, gradiente_hidraulico, especie_quimica, concentracao_inicial)\u001b[0m\n\u001b[0;32m     17\u001b[0m \u001b[38;5;28;01mif\u001b[39;00m \u001b[38;5;28misinstance\u001b[39m(especie_quimica, EspecieQuimica):\n\u001b[0;32m     18\u001b[0m     \u001b[38;5;28mself\u001b[39m\u001b[38;5;241m.\u001b[39m__especie_quimica \u001b[38;5;241m=\u001b[39m especie_quimica\n\u001b[1;32m---> 19\u001b[0m \u001b[38;5;28;01mif\u001b[39;00m \u001b[38;5;28;43misinstance\u001b[39;49m\u001b[43m(\u001b[49m\u001b[43mconcentracao_inicial\u001b[49m\u001b[43m,\u001b[49m\u001b[43m \u001b[49m\u001b[38;5;28;43mlist\u001b[39;49m\u001b[43m[\u001b[49m\u001b[38;5;28;43mfloat\u001b[39;49m\u001b[43m]\u001b[49m\u001b[43m)\u001b[49m:\n\u001b[0;32m     20\u001b[0m     \u001b[38;5;28mself\u001b[39m\u001b[38;5;241m.\u001b[39m__concentracao_inicial \u001b[38;5;241m=\u001b[39m \u001b[38;5;28;01mNone\u001b[39;00m\n",
      "\u001b[1;31mTypeError\u001b[0m: isinstance() argument 2 cannot be a parameterized generic"
     ]
    }
   ],
   "source": [
    "quim = Cation(\"NaOH\",\"NaOH\",\"base\",0.000671)\n",
    "condInicial = CondicaoInicial(-0.25,-0.025,quim,[0.,0.])"
   ]
  }
 ],
 "metadata": {
  "kernelspec": {
   "display_name": "Python 3",
   "language": "python",
   "name": "python3"
  },
  "language_info": {
   "codemirror_mode": {
    "name": "ipython",
    "version": 3
   },
   "file_extension": ".py",
   "mimetype": "text/x-python",
   "name": "python",
   "nbconvert_exporter": "python",
   "pygments_lexer": "ipython3",
   "version": "3.12.6"
  }
 },
 "nbformat": 4,
 "nbformat_minor": 5
}
